import hashlib, json, sys, copy, random, time
from multiprocessing import Pool, Manager, Process
from time import sleep

def hashMe(msg=""):
    # For convenience, this is a helper function that wraps our hashing algorithm
    if type(msg)!=str:
        msg = json.dumps(msg,sort_keys=True)  # If we don't sort keys, we can't guarantee repeatability!
        
    if sys.version_info.major == 2:
        return unicode(hashlib.sha256(msg).hexdigest(),'utf-8')
    else:
        return hashlib.sha256(str(msg).encode('utf-8')).hexdigest()

def merkleroot(hashtxn):
    if len(hashtxn) == 1:
        return hashtxn[0]
    hashtxnList = []
    
    for i in range(0, len(hashtxn)-1, 2):
        hashtxnList.append(hash2(hashtxn[i],hashtxn[i+1]))
    if len(hashtxn) % 2 == 1:
        hashtxnList.append(hash2(hashtxn[-1],hashtxn[-1]))
    return merkleroot(hashtxnList)

def hash2(a,b):
    a1 = a[::-1]
    b1 = b[::-1]
    h = hashMe(a1+b1)
    return h[::-1]

def appendtxn(People_number, txnBuffer):
    k = 0
    while k < 20:
        x = random.random()
        if x>0.8:
            newtxn = makeTransaction(People_number)
            txnBuffer.append(newtxn)
            k = k+1
    sleep(0.2)

def makeTransaction(People_number):
    # This will create valid transactions in the range of (1,maxValue)
    transaction = {u'Alice':0, u'Bob':0, u'Clara':0, u'Dave':0, u'Erica':0, u'Felix':0, u'George':0, u'Hera':0,
                   u'Iris':0, u'John':0, u'Kyle':0, u'Lisa':0, u'Mary':0, u'Nia':0, u'Oscar':0, u'Paul':0, 
                   u'Quincy':0, u'Ruby':0, u'Simon':0, u'Taylor':0, u'Uba':0, u'Verdi':0, u'Wendy':0, 
                   u'Xander':0, u'Yondu':0, u'Zena':0}

    for i in range(1, 27-People_number):
        name = list(transaction.keys())[-1]
        del transaction[name]

    PeopleList = list(transaction.keys())
    amount    = random.randint(1,9)
    sender    = random.randint(1,People_number)
    receiver  = random.randint(1,People_number)
    while sender == receiver:
        receiver = random.randint(1,People_number)
    
    sendPays  = -1 * amount
    recePays  = amount
    
    for i in range(1, People_number+1):
        if sender == i: sendername = PeopleList[i-1]
        if receiver == i: receivername = PeopleList[i-1]  
     
    transaction[sendername] = sendPays
    transaction[receivername] = recePays
    
    return transaction

def updateState(txn, state):
    # Inputs: txn, state: dictionaries keyed with account names, holding numeric values for transfer amount (txn) or account balance (state)
    # Returns: Updated state, with additional users added to state if necessary
    # NOTE: This does not not validate the transaction- just updates the state!
    
    # If the transaction is valid, then update the state
    state = state.copy() # As dictionaries are mutable, let's avoid any confusion by creating a working copy of the data.
    for key in txn:
        if key in state.keys():
            state[key] += txn[key]
        else:
            state[key] = txn[key]
    return state

def isValidTxn(txn,state):
    # Assume that the transaction is a dictionary keyed by account names

    # Check that the transaction does not cause an overdraft
    for key in txn.keys():
        if key in state.keys(): 
            acctBalance = state[key]
        else:
            acctBalance = 0
        if (acctBalance + txn[key]) < 0:
            return False
    
    return True

def POW(blockHeader):
    
    Difficulty = blockHeader[u'bits']

    zeros = '0'
    for i in range(0,Difficulty-1):
        zeros = zeros + '0' 

    nonce=0
    
    while True: 
        blockHeader[u'nonce'] = nonce
        blockHeader[u'timestamp'] = time.time()
        HeaderHash = hashMe(blockHeader) 
     
        if (HeaderHash[0:Difficulty] == zeros):
            break       
        nonce+=1     
        
    return blockHeader

def makeBlock(txns,chain):

    currenttime = time.time()
    parentBlock = chain[-1]
    parentHash  = parentBlock[u'hash']
    blockNumber = parentBlock[u'contents'][u'blockNumber'] + 1
    txnCount    = len(txns)
    txnHash     = []
    for i in range(0,txnCount):
        txnHash.append(hashMe(txns[i]))
    txnmerkleroot = merkleroot(txnHash)    
    blockContents = {u'blockNumber':blockNumber,u'txnCount':len(txns),'txns':txns}
    nonce=0
    
    blockHeader = {u'previousblockhash':parentHash, u'timestamp':currenttime, 
                   u'merklehash':txnmerkleroot, u'bits':Difficulty, u'nonce': nonce}
    
    p = Pool(People_number)
    blocks = []
    for i in range(0,People_number):
        blocks.append(copy.copy(blockHeader))
    
    if Mode == 2:
        ValueList = list(state.values())
        maxvalue = max(ValueList)
        minvalue = min(ValueList)
        
        for i in range(0,4):
            if ValueList[i] == maxvalue:
                blocks[i]['bits'] = Difficulty-1
      #      elif ValueList[i] == minvalue:
      #          blocks[i]['bits'] = Difficulty+1
            else:
                blocks[i]['bits'] = Difficulty
    
    
    result = p.map(POW, blocks)
    p.close()
    p.join()
    times = []
    for i in range(0,People_number):
        times.append(result[i]['timestamp'])
    mintime = min(times)
    for i in range(0,People_number):
        if result[i]['timestamp'] == mintime:
            miner = i+1
    minerName = list(state.keys())[miner-1]
    ConsumedTime = mintime - currenttime
    blockHeaderofPOW = result[miner-1]
    HeaderHash = hashMe(blockHeaderofPOW)

    print('Block Number: ' +str(blockNumber))
    print('Miner: ' +minerName)
    print('ConsumedTime: ' +str(ConsumedTime))
    print('Nonce: ' +str(blockHeaderofPOW['nonce']))
    print('Hash: ' +HeaderHash)
    print()

    reward = MinerReward(minerName)
    global txnBuffer
    if len(txnBuffer) != 0:
        txnBuffer = txnBuffer[::-1]
        txnBuffer.append(reward)
        txnBuffer = txnBuffer[::-1]

    block = {u'hash':HeaderHash,u'blockHeader':blockHeaderofPOW,u'contents':blockContents,}
    
    global time2
    time2 += ConsumedTime
    makechain(block,minerName)
    
    return block

def makechain(block,minerName):

    global chains
    minerchain = chains[minerName]
    minerchain.append(block)
    chainNameList = list(chains.keys())

    for i in range(People_number):
        if chains[chainNameList[i]] != chains[minerName]:
            chains[chainNameList[i]].append(copy.copy(block))

def MinerReward(minerName):
    
    rewardtransaction = {u'Alice':0, u'Bob':0, u'Clara':0, u'Dave':0, u'Erica':0, u'Felix':0, u'George':0, u'Hera':0,
                   u'Iris':0, u'John':0, u'Kyle':0, u'Lisa':0, u'Mary':0, u'Nia':0, u'Oscar':0, u'Paul':0, 
                   u'Quincy':0, u'Ruby':0, u'Simon':0, u'Taylor':0, u'Uba':0, u'Verdi':0, u'Wendy':0, 
                   u'Xander':0, u'Yondu':0, u'Zena':0}

    for i in range(1, 27-People_number):
        name = list(rewardtransaction.keys())[-1]
        del rewardtransaction[name]
        
    rewardtransaction[minerName] = 2
    
    return rewardtransaction

def checkBlockHash(block):
    # Raise an exception if the hash does not match the block contents
    expectedHash = hashMe( block['blockHeader'] )
    if block['hash']!=expectedHash:
        raise Exception('Hash does not match contents of block %s'%
                        block['contents']['blockNumber'])
    return

def checkBlockValidity(block,parent,state):    
    # We want to check the following conditions:
    # - Each of the transactions are valid updates to the system state
    # - Block hash is valid for the block contents
    # - Block number increments the parent block number by 1
    # - Accurately references the parent block's hash
    parentNumber = parent['contents']['blockNumber']
    parentHash   = parent['hash']
    blockNumber  = block['contents']['blockNumber']
    
    # Check transaction validity; throw an error if an invalid transaction was found.
    for txn in block['contents']['txns']:
        if isValidTxn(txn,state):
            state = updateState(txn,state)
        else:
            raise Exception('Invalid transaction in block %s: %s'%(blockNumber,txn))

    checkBlockHash(block) # Check hash integrity; raises error if inaccurate

    if blockNumber!=(parentNumber+1):
        raise Exception('Hash does not match contents of block %s'%blockNumber)

    if block['blockHeader']['previousblockhash'] != parentHash:
        raise Exception('Parent hash not accurate at block %s'%blockNumber)
    
    return state

def checkChain(chain):
    # Work through the chain from the genesis block (which gets special treatment), 
    #  checking that all transactions are internally valid,
    #    that the transactions do not cause an overdraft,
    #    and that the blocks are linked by their hashes.
    # This returns the state as a dictionary of accounts and balances,
    #   or returns False if an error was detected

    
    ## Data input processing: Make sure that our chain is a list of dicts
    if type(chain)==str:
        try:
            chain = json.loads(chain)
            assert( type(chain)==list)
            
        except:  # This is a catch-all, admittedly crude
            return False
    elif type(chain)!=list:
        return False
    
    state = {}
    ## Prime the pump by checking the genesis block
    # We want to check the following conditions:
    # - Each of the transactions are valid updates to the system state
    # - Block hash is valid for the block contents

    for txn in chain[0]['contents']['txns']:
        state = updateState(txn,state)
    checkBlockHash(chain[0])
    parent = chain[0]
    
    ## Checking subsequent blocks: These additionally need to check
    #    - the reference to the parent block's hash
    #    - the validity of the block number
    for block in chain[1:]:
        state = checkBlockValidity(block,parent,state)
        parent = block
        
    return state

if __name__ == '__main__':
    People_number = input("Input number of people who transact: ")
    People_number = int(People_number)
    Difficulty    = input("Input difficulty(number of zeros): ")
    Difficulty    = int(Difficulty)
    blockSizeLimit = input("Input transaction per block: ")
    blockSizeLimit = int(blockSizeLimit)
    Mode = input("Input system mode (POW=1 , POW+POS=2): ")
    Mode = int(Mode)

    starttime = time.time()

    manager = Manager()
    # creating a list in server process memory
    txnBuffer = manager.list([])
    p5 = Process(target=appendtxn, args=(People_number,txnBuffer,))
    p5.start()
    sleep(1)
        # Define the initial state
    state = {u'Alice':0, u'Bob':0, u'Clara':0, u'Dave':0, u'Erica':0, u'Felix':0, u'George':0, u'Hera':0,
                   u'Iris':0, u'John':0, u'Kyle':0, u'Lisa':0, u'Mary':0, u'Nia':0, u'Oscar':0, u'Paul':0, 
                   u'Quincy':0, u'Ruby':0, u'Simon':0, u'Taylor':0, u'Uba':0, u'Verdi':0, u'Wendy':0, 
                   u'Xander':0, u'Yondu':0, u'Zena':0}
    stake = 50
        
    for i in range(1, 27-People_number):
        names = list(state.keys())[-1]
        del state[names]
    for i in range(People_number):
        state[list(state.keys())[i]] = stake
    
    genesisBlockTxns = [state]
    genesisBlockContents = {u'blockNumber':0,u'txnCount':1,u'txns':genesisBlockTxns}
    genesistxnHash = hashMe(genesisBlockTxns)
    genesismerkle = merkleroot(genesistxnHash)
    genesisBlockHeader = {u'previousblockhash':'none', u'timestamp':time.time(), u'merklehash':genesismerkle}
    genesisHeadHash = hashMe(genesisBlockHeader)
    genesisBlock = {u'hash':genesisHeadHash,u'blockHeader':genesisBlockHeader, u'contents':genesisBlockContents}

    
    chains={}
    NameList = list(state.keys())
    for i in range(People_number):
        chains[NameList[i]]=[genesisBlock]

    time1 = time.time() - starttime

    time2 = 0
    totaltxn = 0
    while len(txnBuffer) > 0:

        ## Gather a set of valid transactions for inclusion
        txnList = []
        while (len(txnBuffer) > 0) & (len(txnList) < blockSizeLimit):
            txnBuffer = txnBuffer[::-1]
            newTxn = txnBuffer.pop()
            txnBuffer = txnBuffer[::-1]
            totaltxn += 1
            validTxn = isValidTxn(newTxn,state) # This will return False if txn is invalid

            if validTxn:           # If we got a valid state, not 'False'
                txnList.append(newTxn)
                state = updateState(newTxn,state)
            else:
                print("ignored transaction")
                sys.stdout.flush()
                continue  # This was an invalid transaction; ignore it and move on

        ## Make a block
        myBlock = makeBlock(txnList,chains[u'Alice'])
        for i in range(People_number):
            checkChain(chains[NameList[i]])

    tottime = time1+time2
    TPS = totaltxn / tottime
    averagePOWtime = time2 / chains[u'Alice'][-1]['contents']['blockNumber']
    print(state)
    print('Average of POW times: ' +str(averagePOWtime))
    print('Total Time: ' +str(tottime))
    print('TPS: ' +str(TPS))
